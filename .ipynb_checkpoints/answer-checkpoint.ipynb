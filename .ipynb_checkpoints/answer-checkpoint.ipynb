{
 "cells": [
  {
   "cell_type": "code",
   "execution_count": null,
   "metadata": {},
   "outputs": [],
   "source": [
    "from IPython.display import display, Markdown, Latex\n",
    "from langchain.prompts import PromptTemplate\n",
    "from langchain_core.output_parsers import StrOutputParser\n",
    "from langchain_community.chat_models import ChatOllama"
   ]
  },
  {
   "cell_type": "code",
   "execution_count": 109,
   "metadata": {},
   "outputs": [],
   "source": [
    "local_llm = 'mathstral'\n",
    "mathstral = ChatOllama(model=local_llm, temperature=0, cache=False)"
   ]
  },
  {
   "cell_type": "code",
   "execution_count": 110,
   "metadata": {},
   "outputs": [],
   "source": [
    "generate_prompt = PromptTemplate(\n",
    "    template=\"\"\"\n",
    "    \n",
    "    <|begin_of_text|>\n",
    "    <|start_header_id|>system<|end_header_id|> \n",
    "    You are the question solver for Matiks a platform for mathetmatics and logical reasoning questions which can be solved under a minute without picking up a pen. You need to give detailed and stepwise solutions for every question you are given. You can try various approaches and then tell the final correct answer along with it's detailed stepwise solution.\n",
    "    If you dont find a pattern whichis followed throughout the pattern and feels inconsistent just say that the question is wrong, do not try to forcefully answer the question. Your job is to find the wrong questions and answer the correct questions. So think at every step and make sure you are solving the question correctly. Make sure to point out the questions which do not have a correct answer.\n",
    "    <|eot_id|>\n",
    "    <|start_header_id|>user<|end_header_id|>\n",
    "    Question: {question}\n",
    "    <|eot_id|>\n",
    "    \n",
    "    <|start_header_id|>assistant<|end_header_id|>\"\"\",\n",
    "    input_variables=[\"question\"],\n",
    ")\n",
    "generate_chain = generate_prompt | mathstral | StrOutputParser()"
   ]
  },
  {
   "cell_type": "code",
   "execution_count": 111,
   "metadata": {},
   "outputs": [
    {
     "name": "stdout",
     "output_type": "stream",
     "text": [
      "//////////////////////////////START//////////////////////////////////////////////\n",
      "1. The next number in this sequence is 224. The pattern here is that each number is multiplied by 2 to get the next number. So, 112 * 2 = 224.\n",
      "\n",
      "2. The next number in this sequence is 47. The pattern here is that each number is increasing by a prime number. So, 31 + 2 (next prime number) = 33, and 33 + 4 (next prime number) = 37, and 37 + 6 (next prime number) = 43, and 43 + 4 (next prime number) = 47.\n",
      "\n",
      "3. The missing number in this sequence is 64. This is a geometric sequence where each term is multiplied by 2 to get the next term. So, 32 * 2 = 64.\n",
      "\n",
      "4. The next number in this sequence is 18. The pattern here is that each number is increasing by the previous number plus 1. So, 11 + (11+1) = 23, and 23 + (23+1) = 47, and 47 + (47+1) = 95, and 95 + (95+1) = 189, and 189 + (189+1) = 378. But the question asks for a single digit number, so there seems to be a mistake in the question.\n",
      "\n",
      "5. The next number in this sequence is 30. This is an arithmetic sequence where each term increases by 5. So, 25 + 5 = 30.\n",
      "\n",
      "6. The next number in this sequence is 32. This is a geometric sequence where each term is multiplied by 2 to get the next term. So, 16 * 2 = 32.\n",
      "\n",
      "7. The next number in this sequence is 21. This is a Fibonacci-like sequence where each term is the sum of the previous two terms. So, 8 + 13 = 21.\n",
      "\n",
      "8. The next number in this sequence is 13. This is an arithmetic sequence where each term increases by 3. So, 8 + 5 = 13.\n",
      "\n",
      "9. The next number in this sequence is 96. This is a geometric sequence where each term is multiplied by 2 to get the next term. So, 48 * 2 = 96.\n",
      "\n",
      "10. The next number in this sequence is 34. This is an arithmetic sequence where each term increases by 4. So, 30 + 4 = 34.\n",
      "\n",
      "11. The next number in this sequence is 21. This is an arithmetic sequence where each term increases by 5. So, 15 + 6 = 21.\n",
      "\n",
      "12. The missing number in this sequence is 64. This is a geometric sequence where each term is multiplied by 2 to get the next term. So, 32 * 2 = 64.\n",
      "\n",
      "13. The next number in this sequence is 4. This is an arithmetic sequence where each term increases by 1. So, 3 + 1 = 4.\n",
      "\n",
      "14. The next number in this sequence is 32. This is a geometric sequence where each term is multiplied by 2 to get the next term. So, 16 * 2 = 32.\n",
      "\n",
      "15. The next number in this sequence is 50. This is an arithmetic sequence where each term increases by 4. So, 31 + 9 = 40, and 40 + 10 = 50.\n",
      "\n",
      "16. The next number in this sequence is 20. This is an arithmetic sequence where each term increases by 9. So, 11 + 9 = 20.\n",
      "\n",
      "17. The next number in this sequence is 30. This is an arithmetic sequence where each term increases by 5. So, 25 + 5 = 30.\n",
      "\n",
      "18. The next number in this sequence is 64. This is a geometric sequence where each term is multiplied by 2 to get the next term. So, 32 * 2 = 64.\n",
      "\n",
      "19. The next number in this sequence is 32. This is a geometric sequence where each term is multiplied by 2 to get the next term. So, 16 * 2 = 32.\n",
      "\n",
      "20. The next number in this sequence is 21. This is a Fibonacci-like sequence where each term is the sum of the previous two terms. So, 8 + 13 = 21.\n",
      "/////////////////////////////////////////////////////////////////////////////////\n",
      "\n"
     ]
    }
   ],
   "source": [
    "# difficulty = \"easy\"\n",
    "question = \"\"\"\n",
    "1. What's the next number in this sequence? 7, 14, 28, 56, 112, __\n",
    "2. Continue the pattern: 3, 5, 9, 17, 31, __\n",
    "3. Find the missing number: 1, 2, 4, 8, 16, 32, __\n",
    "4. What's next? 0, 1, 3, 6, 11, __\n",
    "5. Complete the series: 5, 10, 15, 20, 25, __\n",
    "6. Continue the pattern: 1, 2, 4, 8, 16, __\n",
    "7. Fill in the blank: 1, 2, 3, 5, 8, 13, __\n",
    "8. What number follows? 0, 1, 2, 3, 5, 8, __\n",
    "9. Complete the series: 3, 6, 12, 24, 48, __\n",
    "10. What's the next number? 2, 6, 12, 20, 30, __\n",
    "11. Continue the pattern: 1, 3, 6, 10, 15, __\n",
    "12. Find the missing number: 2, 4, 8, 16, 32, __\n",
    "13. What's next? 0, 1, 1, 2, 3, __\n",
    "14. Continue the pattern: 1, 2, 4, 8, 16, __\n",
    "15. Fill in the blank: 3, 5, 9, 17, 31, __\n",
    "16. What number follows? 0, 1, 3, 6, 11, __\n",
    "17. Complete the series: 5, 10, 15, 20, 25, __\n",
    "18. What's the next number? 2, 4, 8, 16, 32, __\n",
    "19. Continue the pattern: 1, 2, 4, 8, 16, __\n",
    "20. Fill in the blank: 1, 2, 3, 5, 8, 13, __\n",
    "\"\"\"\n",
    "print(\"//////////////////////////////START//////////////////////////////////////////////\")\n",
    "generation = generate_chain.invoke({\"question\": question})\n",
    "print(generation)\n",
    "print(\"/////////////////////////////////////////////////////////////////////////////////\\n\")"
   ]
  }
 ],
 "metadata": {
  "kernelspec": {
   "display_name": "Python 3",
   "language": "python",
   "name": "python3"
  },
  "language_info": {
   "codemirror_mode": {
    "name": "ipython",
    "version": 3
   },
   "file_extension": ".py",
   "mimetype": "text/x-python",
   "name": "python",
   "nbconvert_exporter": "python",
   "pygments_lexer": "ipython3",
   "version": "3.10.12"
  }
 },
 "nbformat": 4,
 "nbformat_minor": 2
}
